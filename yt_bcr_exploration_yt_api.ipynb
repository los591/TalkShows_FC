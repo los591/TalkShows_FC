{
 "cells": [
  {
   "cell_type": "code",
   "execution_count": 1,
   "id": "b8b776bb-fa59-4bbe-bf06-2e19814a3829",
   "metadata": {},
   "outputs": [],
   "source": [
    "import requests as r\n",
    "import pandas as pd"
   ]
  },
  {
   "cell_type": "code",
   "execution_count": null,
   "id": "5f3392a2-8c2a-4b35-8b6a-7c519e774138",
   "metadata": {},
   "outputs": [],
   "source": [
    "### Fetch channel ID\n",
    "\n",
    "apikey = 'enter key here'\n",
    "\n",
    "url = 'https://www.googleapis.com/youtube/v3/channels'\n",
    "params = {'part': 'id', 'forHandle': 'LateNightSeth', 'key': apikey}\n",
    "call = r.get(url, params=params)\n",
    "channel_id = call.json()['items'][0]['id']"
   ]
  },
  {
   "cell_type": "code",
   "execution_count": 3,
   "id": "ba30eaa3-ae6d-44c9-b622-5202d9de3cf6",
   "metadata": {},
   "outputs": [
    {
     "data": {
      "text/plain": [
       "{'kind': 'youtube#channelListResponse',\n",
       " 'etag': 'UKbotkLlH2kQaKj9j3XXNKZoKEA',\n",
       " 'pageInfo': {'totalResults': 1, 'resultsPerPage': 5},\n",
       " 'items': [{'kind': 'youtube#channel',\n",
       "   'etag': 'mtdvflLCoMIHpr4gCULI6iXWw0Y',\n",
       "   'id': 'UCVTyTA7-g9nopHeHbeuvpRA'}]}"
      ]
     },
     "execution_count": 3,
     "metadata": {},
     "output_type": "execute_result"
    }
   ],
   "source": [
    "call.json()"
   ]
  },
  {
   "cell_type": "code",
   "execution_count": 4,
   "id": "0372ccb8-9684-41f0-881a-ffe0a54bcc1e",
   "metadata": {},
   "outputs": [
    {
     "data": {
      "text/plain": [
       "'UCVTyTA7-g9nopHeHbeuvpRA'"
      ]
     },
     "execution_count": 4,
     "metadata": {},
     "output_type": "execute_result"
    }
   ],
   "source": [
    "channel_id"
   ]
  },
  {
   "cell_type": "code",
   "execution_count": 5,
   "id": "f7ae4094-5cee-4fe4-95a5-9cbd761d011f",
   "metadata": {},
   "outputs": [],
   "source": [
    "playlist_url = \"https://www.googleapis.com/youtube/v3/channels\"\n",
    "params = {'part': 'contentDetails', 'id': channel_id, 'key':apikey}\n",
    "playlist_call = r.get(playlist_url, params=params)"
   ]
  },
  {
   "cell_type": "code",
   "execution_count": 6,
   "id": "7a313150-80e7-4059-8790-477a29c68f81",
   "metadata": {},
   "outputs": [
    {
     "data": {
      "text/plain": [
       "{'kind': 'youtube#channelListResponse',\n",
       " 'etag': 'BC0ZP1P7jRXz1ArBqH-VSZq5vGo',\n",
       " 'pageInfo': {'totalResults': 1, 'resultsPerPage': 5},\n",
       " 'items': [{'kind': 'youtube#channel',\n",
       "   'etag': '5W66be-zYCDhYcwlGMbo08576jo',\n",
       "   'id': 'UCVTyTA7-g9nopHeHbeuvpRA',\n",
       "   'contentDetails': {'relatedPlaylists': {'likes': '',\n",
       "     'uploads': 'UUVTyTA7-g9nopHeHbeuvpRA'}}}]}"
      ]
     },
     "execution_count": 6,
     "metadata": {},
     "output_type": "execute_result"
    }
   ],
   "source": [
    "playlist_call.json()"
   ]
  },
  {
   "cell_type": "code",
   "execution_count": 71,
   "id": "1d1e9734-ba9a-4938-96ad-72378add2332",
   "metadata": {},
   "outputs": [],
   "source": [
    "UPLOADS_PLAYLIST_ID = playlist_call.json()['items'][0]['contentDetails']['relatedPlaylists']['uploads']"
   ]
  },
  {
   "cell_type": "code",
   "execution_count": 72,
   "id": "933786bc-c44c-4f7c-9692-52c8259ddf14",
   "metadata": {},
   "outputs": [
    {
     "data": {
      "text/plain": [
       "'UU5Wz4fFacYuON6IKbhSa7Zw'"
      ]
     },
     "execution_count": 72,
     "metadata": {},
     "output_type": "execute_result"
    }
   ],
   "source": [
    "UPLOADS_PLAYLIST_ID"
   ]
  },
  {
   "cell_type": "code",
   "execution_count": null,
   "id": "9d87f615-4495-42c4-881a-9542ca73d3ce",
   "metadata": {},
   "outputs": [],
   "source": []
  },
  {
   "cell_type": "code",
   "execution_count": null,
   "id": "4d2afed6-a467-4fa1-9d5c-3b9fdb5d5162",
   "metadata": {},
   "outputs": [],
   "source": [
    "### End here"
   ]
  },
  {
   "cell_type": "code",
   "execution_count": 73,
   "id": "65a86e19-ac12-4409-af1a-1c134b8bd316",
   "metadata": {},
   "outputs": [
    {
     "data": {
      "text/plain": [
       "{'kind': 'youtube#channelListResponse',\n",
       " 'etag': 'xC_0DQhvAyVm8UGFdUGS7PykzaU',\n",
       " 'pageInfo': {'totalResults': 1, 'resultsPerPage': 5},\n",
       " 'items': [{'kind': 'youtube#channel',\n",
       "   'etag': 'BKvLCBMQ0Tf0Tjx1Svv9XATKw7g',\n",
       "   'id': 'UC5Wz4fFacYuON6IKbhSa7Zw',\n",
       "   'contentDetails': {'relatedPlaylists': {'likes': '',\n",
       "     'uploads': 'UU5Wz4fFacYuON6IKbhSa7Zw'}}}]}"
      ]
     },
     "execution_count": 73,
     "metadata": {},
     "output_type": "execute_result"
    }
   ],
   "source": [
    "playlist_call.json()"
   ]
  },
  {
   "cell_type": "code",
   "execution_count": 74,
   "id": "3a7db882-a0b7-4a52-8f75-eca01676389d",
   "metadata": {},
   "outputs": [],
   "source": [
    "video_url = f\"https://www.googleapis.com/youtube/v3/playlistItems?\"\n",
    "params = {'part':['snippet','contentDetails'], 'maxResults':50, 'playlistId':UPLOADS_PLAYLIST_ID, 'key': apikey}\n",
    "videos_call = r.get(video_url, params=params)"
   ]
  },
  {
   "cell_type": "code",
   "execution_count": 75,
   "id": "6391d072-096e-4bbd-960b-ac48b3e38a31",
   "metadata": {},
   "outputs": [],
   "source": [
    "video_info = videos_call.json()['items']"
   ]
  },
  {
   "cell_type": "code",
   "execution_count": 86,
   "id": "a76f3101-c8d5-40bf-8378-8ee42498988a",
   "metadata": {},
   "outputs": [],
   "source": [
    "video_ids = [x['contentDetails']['videoId'] for x in video_info]"
   ]
  },
  {
   "cell_type": "code",
   "execution_count": 87,
   "id": "c1cdd805-0f2d-49a3-9b3a-c9ef67451934",
   "metadata": {},
   "outputs": [
    {
     "data": {
      "text/plain": [
       "50"
      ]
     },
     "execution_count": 87,
     "metadata": {},
     "output_type": "execute_result"
    }
   ],
   "source": [
    "len(video_ids)"
   ]
  },
  {
   "cell_type": "code",
   "execution_count": 92,
   "id": "65759ff4-fd56-45eb-8af1-48c966ed9268",
   "metadata": {},
   "outputs": [],
   "source": [
    "\n",
    "video_info_url = \"https://www.googleapis.com/youtube/v3/videos\"\n",
    "params = {'part':'statistics', 'id':video_ids[1], 'key': apikey}\n",
    "video_info_call =  r.get(video_info_url, params=params)\n"
   ]
  },
  {
   "cell_type": "code",
   "execution_count": 93,
   "id": "66804ab8-83a1-431a-9822-b47814f149f2",
   "metadata": {},
   "outputs": [
    {
     "data": {
      "text/plain": [
       "{'kind': 'youtube#videoListResponse',\n",
       " 'etag': 'Qm40iQ4gf634Ag7CFWEA5LUcQRg',\n",
       " 'items': [{'kind': 'youtube#video',\n",
       "   'etag': 'oSBRp2jpMStVRT1-_pjRHxW5D7Y',\n",
       "   'id': 'fFZG7SjUWoE',\n",
       "   'statistics': {'viewCount': '4100',\n",
       "    'likeCount': '276',\n",
       "    'favoriteCount': '0',\n",
       "    'commentCount': '21'}}],\n",
       " 'pageInfo': {'totalResults': 1, 'resultsPerPage': 1}}"
      ]
     },
     "execution_count": 93,
     "metadata": {},
     "output_type": "execute_result"
    }
   ],
   "source": [
    "video_info_call.json()"
   ]
  },
  {
   "cell_type": "code",
   "execution_count": 46,
   "id": "a7998fe8-dd70-4d0e-93b2-332060ffa24d",
   "metadata": {},
   "outputs": [
    {
     "data": {
      "text/plain": [
       "'VVVwUVFfc2YwTTVZNWhxNXA2SzZmTGxRLnNHNk1EZUpERG44'"
      ]
     },
     "execution_count": 46,
     "metadata": {},
     "output_type": "execute_result"
    }
   ],
   "source": [
    "video_ids[-1]"
   ]
  },
  {
   "cell_type": "code",
   "execution_count": 91,
   "id": "d36cc518-a629-4303-9f6c-b90f3c34ab82",
   "metadata": {},
   "outputs": [
    {
     "data": {
      "text/plain": [
       "{'kind': 'youtube#playlistItem',\n",
       " 'etag': 'YVCocUarjRC0gM8-GqnuPA8T3yA',\n",
       " 'id': 'VVU1V3o0ZkZhY1l1T042SUtiaFNhN1p3LnhobzR2MWRKOF9Z',\n",
       " 'snippet': {'publishedAt': '2024-10-21T21:10:27Z',\n",
       "  'channelId': 'UC5Wz4fFacYuON6IKbhSa7Zw',\n",
       "  'title': 'Microsoft’s new CoPilot Agents…',\n",
       "  'description': 'LINK: https://blogs.microsoft.com/blog/2024/10/21/new-autonomous-agents-scale-your-team-like-never-before/\\n\\nJoin discord: discord.gg/mattvidpro',\n",
       "  'thumbnails': {'default': {'url': 'https://i.ytimg.com/vi/xho4v1dJ8_Y/default.jpg',\n",
       "    'width': 120,\n",
       "    'height': 90},\n",
       "   'medium': {'url': 'https://i.ytimg.com/vi/xho4v1dJ8_Y/mqdefault.jpg',\n",
       "    'width': 320,\n",
       "    'height': 180},\n",
       "   'high': {'url': 'https://i.ytimg.com/vi/xho4v1dJ8_Y/hqdefault.jpg',\n",
       "    'width': 480,\n",
       "    'height': 360},\n",
       "   'standard': {'url': 'https://i.ytimg.com/vi/xho4v1dJ8_Y/sddefault.jpg',\n",
       "    'width': 640,\n",
       "    'height': 480},\n",
       "   'maxres': {'url': 'https://i.ytimg.com/vi/xho4v1dJ8_Y/maxresdefault.jpg',\n",
       "    'width': 1280,\n",
       "    'height': 720}},\n",
       "  'channelTitle': 'MattVidPro AI',\n",
       "  'playlistId': 'UU5Wz4fFacYuON6IKbhSa7Zw',\n",
       "  'position': 0,\n",
       "  'resourceId': {'kind': 'youtube#video', 'videoId': 'xho4v1dJ8_Y'},\n",
       "  'videoOwnerChannelTitle': 'MattVidPro AI',\n",
       "  'videoOwnerChannelId': 'UC5Wz4fFacYuON6IKbhSa7Zw'},\n",
       " 'contentDetails': {'videoId': 'xho4v1dJ8_Y',\n",
       "  'videoPublishedAt': '2024-10-21T21:10:27Z'}}"
      ]
     },
     "execution_count": 91,
     "metadata": {},
     "output_type": "execute_result"
    }
   ],
   "source": [
    "video_info[0]"
   ]
  },
  {
   "cell_type": "code",
   "execution_count": null,
   "id": "e75e03c3-c921-48a4-809c-bd6f01250a40",
   "metadata": {},
   "outputs": [],
   "source": []
  }
 ],
 "metadata": {
  "kernelspec": {
   "display_name": "venv",
   "language": "python",
   "name": "python3"
  },
  "language_info": {
   "codemirror_mode": {
    "name": "ipython",
    "version": 3
   },
   "file_extension": ".py",
   "mimetype": "text/x-python",
   "name": "python",
   "nbconvert_exporter": "python",
   "pygments_lexer": "ipython3",
   "version": "3.11.9"
  }
 },
 "nbformat": 4,
 "nbformat_minor": 5
}
